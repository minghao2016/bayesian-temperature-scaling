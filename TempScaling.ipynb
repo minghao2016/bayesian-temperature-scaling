{
 "cells": [
  {
   "cell_type": "code",
   "execution_count": null,
   "metadata": {
    "pycharm": {}
   },
   "outputs": [],
   "source": [
    "import torch\n",
    "import torch.nn as nn\n",
    "import torch.nn.functional as F\n",
    "import torch.optim as optim\n",
    "from torchvision import datasets, transforms, models\n",
    "from torch.utils.data.sampler import SubsetRandomSampler\n",
    "import numpy as np\n",
    "import matplotlib\n",
    "from ece import eceloss, uceloss\n",
    "from tqdm import tqdm\n",
    "from utils import accuracy, nentr\n",
    "from models import BayesianNet\n",
    "from matplotlib import pyplot as plt\n",
    "import seaborn as sns\n",
    "sns.set()\n",
    "matplotlib.rcParams['text.usetex'] = True\n",
    "matplotlib.rcParams['font.size'] = 8"
   ]
  },
  {
   "cell_type": "code",
   "execution_count": null,
   "metadata": {},
   "outputs": [],
   "source": [
    "model = 'densenet169'"
   ]
  },
  {
   "cell_type": "code",
   "execution_count": null,
   "metadata": {
    "pycharm": {}
   },
   "outputs": [],
   "source": [
    "batch_size = 128\n",
    "valid_size = 5000\n",
    "\n",
    "if model == 'resnet18':\n",
    "    mean = [0.4914, 0.48216, 0.44653]\n",
    "    std = [0.2470, 0.2435, 0.26159]\n",
    "    valid_set = datasets.CIFAR10('../data', train=True, download=True,\n",
    "                                 transform=transforms.Compose([\n",
    "                                     transforms.RandomCrop(32, padding=4),\n",
    "                                     transforms.RandomHorizontalFlip(),\n",
    "                                     transforms.ToTensor(),\n",
    "                                     transforms.Normalize(mean=mean, std=std)]))\n",
    "\n",
    "    test_set = datasets.CIFAR10('../data', train=False, download=False,\n",
    "                                transform=transforms.Compose([\n",
    "                                    transforms.ToTensor(),\n",
    "                                    transforms.Normalize(mean=mean, std=std)]))\n",
    "    valid_indices = torch.load('./valid_indices_cifar10.pth')\n",
    "else:\n",
    "    mean = [0.485, 0.456, 0.406]\n",
    "    std = [0.229, 0.224, 0.225]\n",
    "    valid_set = datasets.CIFAR100('../data', train=True, download=True,\n",
    "                                  transform=transforms.Compose([\n",
    "                                      transforms.RandomCrop(32, padding=4),\n",
    "                                      transforms.RandomHorizontalFlip(),\n",
    "                                      transforms.ToTensor(),\n",
    "                                      transforms.Normalize(mean=mean, std=std)]))\n",
    "\n",
    "    test_set = datasets.CIFAR100('../data', train=False, download=False,\n",
    "                                 transform=transforms.Compose([\n",
    "                                     transforms.ToTensor(),\n",
    "                                     transforms.Normalize(mean=mean, std=std)]))\n",
    "    valid_indices = torch.load('./valid_indices_cifar100.pth')\n",
    "\n",
    "valid_loader = torch.utils.data.DataLoader(valid_set, batch_size=batch_size, pin_memory=True,\n",
    "                                           sampler=SubsetRandomSampler(valid_indices))\n",
    "test_loader = torch.utils.data.DataLoader(test_set, batch_size=batch_size, pin_memory=True, num_workers=4)"
   ]
  },
  {
   "cell_type": "code",
   "execution_count": null,
   "metadata": {
    "pycharm": {}
   },
   "outputs": [],
   "source": [
    "device = torch.device(\"cuda\" if torch.cuda.is_available() else \"cpu\")\n",
    "print(device)\n",
    "if model == 'resnet18':\n",
    "    net = BayesianNet(num_classes=10, model=model).to(device)\n",
    "else:\n",
    "    net = BayesianNet(num_classes=100, model=model).to(device)\n",
    "\n",
    "# load weights for flow estimation from best last stage\n",
    "checkpoint = torch.load(f'../snapshots/{model}_499.pth.tar', map_location=device)\n",
    "print(\"Loading previous weights at epoch \" + str(checkpoint['epoch']))\n",
    "net.load_state_dict(checkpoint['state_dict'])\n",
    "print('T =', net.T.item())\n",
    "\n",
    "optimizer_temp = optim.Adam([net.T], lr=1e-2)\n",
    "lr_scheduler_temp = optim.lr_scheduler.ReduceLROnPlateau(optimizer_temp, patience=5, factor=0.1)"
   ]
  },
  {
   "cell_type": "code",
   "execution_count": null,
   "metadata": {
    "pycharm": {}
   },
   "outputs": [],
   "source": [
    "train_losses = []\n",
    "train_accuracies = []\n",
    "epochs = 30\n",
    "net.eval()\n",
    "\n",
    "for e in range(epochs):\n",
    "    print(\"lr =\", optimizer_temp.param_groups[0]['lr'])\n",
    "    \n",
    "    epoch_train_loss = []\n",
    "    epoch_train_acc = []\n",
    "    is_best = False\n",
    "    \n",
    "    for batch_idx, (data, target) in enumerate(tqdm(valid_loader)):\n",
    "        data, target = data.to(device), target.to(device)\n",
    "        optimizer_temp.zero_grad()\n",
    "        output = net(data, temp_scale=True, bayesian=False)\n",
    "        loss = F.cross_entropy(output, target)\n",
    "        loss.backward()\n",
    "        epoch_train_loss.append(loss.item())\n",
    "        epoch_train_acc.append(accuracy(output, target))\n",
    "        optimizer_temp.step()\n",
    "\n",
    "    epoch_train_loss = np.mean(epoch_train_loss)\n",
    "    epoch_train_acc = np.mean(epoch_train_acc)\n",
    "    lr_scheduler_temp.step(epoch_train_loss)\n",
    "\n",
    "    # save epoch losses\n",
    "    train_losses.append(epoch_train_loss)\n",
    "    train_accuracies.append(epoch_train_acc)\n",
    "    \n",
    "    print(\"Epoch {:d}: loss: {:4f}, acc: {:4f}\"\n",
    "          .format(e,\n",
    "                  epoch_train_loss,\n",
    "                  epoch_train_acc,\n",
    "                  ))\n",
    "    \n",
    "    print('T =', net.T.item())"
   ]
  },
  {
   "cell_type": "code",
   "execution_count": null,
   "metadata": {
    "pycharm": {}
   },
   "outputs": [],
   "source": [
    "def test(temp_scale, bayesian):\n",
    "    logits = []\n",
    "    labels = []\n",
    "    with torch.no_grad():\n",
    "        for batch_idx, (data, target) in enumerate(tqdm(test_loader)):\n",
    "            data, target = data.to(device), target.to(device)\n",
    "            output = net(data, temp_scale=temp_scale, bayesian=bayesian)\n",
    "            logits.append(output.detach())\n",
    "            labels.append(target.detach())\n",
    "    return torch.cat(logits, dim=0), torch.cat(labels, dim=0)"
   ]
  },
  {
   "cell_type": "code",
   "execution_count": null,
   "metadata": {},
   "outputs": [],
   "source": [
    "def plot_reliability(acc, conf, err, entr):\n",
    "    fig, ax = plt.subplots(1, 2, figsize=(4.5,2.25), sharey=True)\n",
    "    ax[0].plot([0,1], [0,1], 'k--')\n",
    "    ax[0].plot(conf.data.cpu().numpy(), acc.data.cpu().numpy(), marker='.')\n",
    "    ax[0].set_xlabel(r'Confidence')\n",
    "    ax[0].set_ylabel(r'Accuracy')\n",
    "    ax[0].set_xticks((np.arange(0, 1.1, step=0.2)))\n",
    "    ax[0].set_yticks((np.arange(0, 1.1, step=0.2)))\n",
    "\n",
    "    ax[1].plot([0,1], [0,1], 'k--')\n",
    "    ax[1].plot(entr.data.cpu().numpy(), err.data.cpu().numpy(), marker='.')\n",
    "    ax[1].set_xticks((np.arange(0, 1.1, step=0.2)))\n",
    "    #ax[1].set_yticklabels([])\n",
    "    ax[1].set_ylabel(r'Error')\n",
    "    ax[1].set_xlabel(r'Uncertainty')\n",
    "\n",
    "    return fig, ax"
   ]
  },
  {
   "cell_type": "code",
   "execution_count": null,
   "metadata": {},
   "outputs": [],
   "source": [
    "logits, labels = test(temp_scale=False, bayesian=False)\n",
    "print(\"acc =\", accuracy(logits, labels))\n",
    "\n",
    "ece, acc, conf = eceloss(logits, labels)\n",
    "uce, err, entr = uceloss(logits, labels)\n",
    "print('ece =', ece.item())\n",
    "print(\"uce =\", uce.item())\n",
    "\n",
    "fig1, ax = plot_reliability(acc, conf, err, entr)\n",
    "\n",
    "textstr = r'ECE\\,=\\,{:.2f}'.format(ece.item()*100)\n",
    "props = dict(boxstyle='round', facecolor='white', alpha=0.75)\n",
    "ax[0].text(0.075, 0.925, textstr, transform=ax[0].transAxes, fontsize=14,\n",
    "           verticalalignment='top',\n",
    "           horizontalalignment='left',\n",
    "           bbox=props\n",
    "          )\n",
    "\n",
    "textstr = r'UCE\\,=\\,{:.2f}'.format(uce.item()*100)\n",
    "props = dict(boxstyle='round', facecolor='white', alpha=0.75)\n",
    "ax[1].text(0.925, 0.075, textstr, transform=ax[1].transAxes, fontsize=14,\n",
    "           verticalalignment='bottom',\n",
    "           horizontalalignment='right',\n",
    "           bbox=props\n",
    "          )\n",
    "fig1.tight_layout()\n",
    "fig1.show()"
   ]
  },
  {
   "cell_type": "code",
   "execution_count": null,
   "metadata": {},
   "outputs": [],
   "source": [
    "fig1.savefig(f'{model}_uncalib.pdf', dpi=300)"
   ]
  },
  {
   "cell_type": "code",
   "execution_count": null,
   "metadata": {
    "pycharm": {}
   },
   "outputs": [],
   "source": [
    "logits, labels = test(temp_scale=True, bayesian=False)\n",
    "print(\"acc =\", accuracy(logits, labels))\n",
    "\n",
    "ece, acc, conf = eceloss(logits, labels)\n",
    "uce, err, entr = uceloss(logits, labels)\n",
    "print('ece =', ece.item())\n",
    "print(\"uce =\", uce.item())\n",
    "\n",
    "fig2, ax = plot_reliability(acc, conf, err, entr)\n",
    "\n",
    "textstr = r'ECE\\,=\\,{:.2f}'.format(ece.item()*100)\n",
    "props = dict(boxstyle='round', facecolor='white', alpha=0.75)\n",
    "ax[0].text(0.075, 0.925, textstr, transform=ax[0].transAxes, fontsize=14,\n",
    "           verticalalignment='top',\n",
    "           horizontalalignment='left',\n",
    "           bbox=props\n",
    "          )\n",
    "\n",
    "textstr = r'UCE\\,=\\,{:.2f}'.format(uce.item()*100)\n",
    "props = dict(boxstyle='round', facecolor='white', alpha=0.75)\n",
    "ax[1].text(0.925, 0.075, textstr, transform=ax[1].transAxes, fontsize=14,\n",
    "           verticalalignment='bottom',\n",
    "           horizontalalignment='right',\n",
    "           bbox=props\n",
    "          )\n",
    "fig2.tight_layout()\n",
    "fig2.show()"
   ]
  },
  {
   "cell_type": "code",
   "execution_count": null,
   "metadata": {},
   "outputs": [],
   "source": [
    "fig2.savefig(f'{model}_calib.pdf', dpi=300)"
   ]
  },
  {
   "cell_type": "code",
   "execution_count": null,
   "metadata": {},
   "outputs": [],
   "source": []
  }
 ],
 "metadata": {
  "kernelspec": {
   "display_name": "Python 3",
   "language": "python",
   "name": "python3"
  },
  "language_info": {
   "codemirror_mode": {
    "name": "ipython",
    "version": 3
   },
   "file_extension": ".py",
   "mimetype": "text/x-python",
   "name": "python",
   "nbconvert_exporter": "python",
   "pygments_lexer": "ipython3",
   "version": "3.7.3"
  }
 },
 "nbformat": 4,
 "nbformat_minor": 2
}
